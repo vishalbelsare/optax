{
  "cells": [
    {
      "cell_type": "markdown",
      "metadata": {
        "id": "KjYlO80JL3j1"
      },
      "source": [
        "Copyright 2023 Google LLC\n",
        "\n",
        "Licensed under the Apache License, Version 2.0 (the \"License\"); you may not use\n",
        "this file except in compliance with the License. You may obtain a copy of the\n",
        "License at\n",
        "\n",
        "```\n",
        " https://www.apache.org/licenses/LICENSE-2.0\n",
        "```\n",
        "\n",
        "Unless required by applicable law or agreed to in writing, software distributed\n",
        "under the License is distributed on an \"AS IS\" BASIS, WITHOUT WARRANTIES OR\n",
        "CONDITIONS OF ANY KIND, either express or implied. See the License for the\n",
        "specific language governing permissions and limitations under the License."
      ]
    },
    {
      "cell_type": "markdown",
      "metadata": {
        "id": "uJHywE_oL3j2"
      },
      "source": [
        "# Simple NN with Haiku.\n",
        "\n",
        "[![Open in Colab](https://colab.research.google.com/assets/colab-badge.svg)](https://colab.sandbox.google.com/github/google-deepmind/optax/blob/master/examples/haiku_example.ipynb)\n",
        "\n",
        "This notebook trains a simple one-layer NN with Optax and Haiku."
      ]
    },
    {
      "cell_type": "code",
      "execution_count": 1,
      "metadata": {
        "executionInfo": {
          "elapsed": 5443,
          "status": "ok",
          "timestamp": 1702396003709,
          "user": {
            "displayName": "",
            "userId": ""
          },
          "user_tz": 0
        },
        "id": "2UQeQxFzdrzd"
      },
      "outputs": [],
      "source": [
        "import optax\n",
        "import jax\n",
        "import jax.numpy as jnp\n",
        "import haiku as hk\n",
        "import matplotlib.pyplot as plt"
      ]
    },
    {
      "cell_type": "code",
      "execution_count": 2,
      "metadata": {
        "executionInfo": {
          "elapsed": 53,
          "status": "ok",
          "timestamp": 1702396003862,
          "user": {
            "displayName": "",
            "userId": ""
          },
          "user_tz": 0
        },
        "id": "YSqWu8a_dl4Q"
      },
      "outputs": [],
      "source": [
        "# @markdown Learning rate for the optimizer:\n",
        "LEARNING_RATE = 1e-2  # @param{type:\"number\"}\n",
        "# @markdown Number of training steps:\n",
        "NUM_STEPS = 100  # @param{type:\"integer\"}\n",
        "# @markdown Number of samples in a batch:\n",
        "BATCH_SIZE = 64  # @param{type:\"integer\"}\n",
        "# @markdown Shape of the input:\n",
        "X_DIM = 10  # @param{type:\"integer\"}\n"
      ]
    },
    {
      "cell_type": "markdown",
      "metadata": {
        "id": "MNo8j9Fmmm7H"
      },
      "source": [
        "In this cell, we initialize a random number generator (RNG), which will be used to generate the training dataset."
      ]
    },
    {
      "cell_type": "code",
      "execution_count": 3,
      "metadata": {
        "executionInfo": {
          "elapsed": 234,
          "status": "ok",
          "timestamp": 1702396004166,
          "user": {
            "displayName": "",
            "userId": ""
          },
          "user_tz": 0
        },
        "id": "nmrlbUqQeEGo"
      },
      "outputs": [],
      "source": [
        "key_seq = hk.PRNGSequence(1729)"
      ]
    },
    {
      "cell_type": "markdown",
      "metadata": {
        "id": "l2aAe-CXoE8Z"
      },
      "source": [
        "In the next cell, we define a model and obtain its initial parameters."
      ]
    },
    {
      "cell_type": "code",
      "execution_count": 4,
      "metadata": {
        "executionInfo": {
          "elapsed": 430,
          "status": "ok",
          "timestamp": 1702396004667,
          "user": {
            "displayName": "",
            "userId": ""
          },
          "user_tz": 0
        },
        "id": "LrKhX5XUeLqg"
      },
      "outputs": [],
      "source": [
        "def forward_pass(x):\n",
        "  return hk.Linear(10)(x)\n",
        "\n",
        "net = hk.without_apply_rng(hk.transform(forward_pass))\n",
        "params = net.init(next(key_seq), jnp.zeros([1, X_DIM]))"
      ]
    },
    {
      "cell_type": "markdown",
      "metadata": {
        "id": "rNdtDg4ukJB3"
      },
      "source": [
        "Next we define a custom loss function.\n",
        "By minimising this loss, we aim to adjust the parameters of the model such that its output values are close to zero."
      ]
    },
    {
      "cell_type": "code",
      "execution_count": 5,
      "metadata": {
        "executionInfo": {
          "elapsed": 52,
          "status": "ok",
          "timestamp": 1702396004788,
          "user": {
            "displayName": "",
            "userId": ""
          },
          "user_tz": 0
        },
        "id": "ikgNAXm0fKM1"
      },
      "outputs": [],
      "source": [
        "def sum_squared_loss(params, x):\n",
        "  output = net.apply(params, x)\n",
        "  loss = jnp.sum(output**2)\n",
        "  return loss\n",
        "\n",
        "value_and_grad_fn = jax.value_and_grad(sum_squared_loss)"
      ]
    },
    {
      "cell_type": "markdown",
      "metadata": {
        "id": "8-Lm815FrcDD"
      },
      "source": [
        "In the next cell, we construct a simple Adam optimiser using Optax gradient transformations passed to the `optax.chain`. Here the optimiser is represented by its initialisation function `opt_init` and the function `opt_update` that takes gradients, the previous optimizer state, and the current model parameters and returns the computed gradient updates, and a new optimizer state.\n",
        "\n",
        "The same result can be achieved by using the `optax.adam` alias. However, here, we demonstrate how to work with gradient transformations manually so that you can build your own custom optimiser if needed."
      ]
    },
    {
      "cell_type": "code",
      "execution_count": 6,
      "metadata": {
        "executionInfo": {
          "elapsed": 53,
          "status": "ok",
          "timestamp": 1702396004908,
          "user": {
            "displayName": "",
            "userId": ""
          },
          "user_tz": 0
        },
        "id": "F7aS_-dofapt"
      },
      "outputs": [],
      "source": [
        "opt_init, opt_update = optax.chain(\n",
        "    # Sets the parameters of Adam. Note the learning_rate is not here.\n",
        "    optax.scale_by_adam(b1=0.9, b2=0.999, eps=1e-8),\n",
        "    # Puts a minus sign to *minimise* the loss.\n",
        "    optax.scale(-LEARNING_RATE)\n",
        ")"
      ]
    },
    {
      "cell_type": "markdown",
      "metadata": {
        "id": "dZhCXZC0qpV1"
      },
      "source": [
        "We then pass the initial parameters of the model to the optimiser's init function to obtain its initial parameters."
      ]
    },
    {
      "cell_type": "code",
      "execution_count": 7,
      "metadata": {
        "executionInfo": {
          "elapsed": 53,
          "status": "ok",
          "timestamp": 1702396005025,
          "user": {
            "displayName": "",
            "userId": ""
          },
          "user_tz": 0
        },
        "id": "1Oukzb31fbyZ"
      },
      "outputs": [],
      "source": [
        "opt_state = opt_init(params)"
      ]
    },
    {
      "cell_type": "markdown",
      "metadata": {
        "id": "eOpZ_zZ_qwWz"
      },
      "source": [
        "Finally, we train the model for `NUM_STEPS` steps."
      ]
    },
    {
      "cell_type": "code",
      "execution_count": 8,
      "metadata": {
        "executionInfo": {
          "elapsed": 1364,
          "status": "ok",
          "timestamp": 1702396006455,
          "user": {
            "displayName": "",
            "userId": ""
          },
          "user_tz": 0
        },
        "id": "l09Gos8pfzXU"
      },
      "outputs": [],
      "source": [
        "loss_history = []\n",
        "\n",
        "for _ in range(NUM_STEPS):\n",
        "  data = jax.random.normal(next(key_seq), [BATCH_SIZE, X_DIM])\n",
        "  # Computes loss values of the loss function.\n",
        "  loss, grad = value_and_grad_fn(params, data)\n",
        "  loss_history.append(loss)\n",
        "  # Transforms the gradients using the optimiser.\n",
        "  updates, opt_state = opt_update(grad, opt_state, params)\n",
        "  # Updates parameters.\n",
        "  params = optax.apply_updates(params, updates)"
      ]
    },
    {
      "cell_type": "code",
      "execution_count": 9,
      "metadata": {
        "colab": {
          "height": 294
        },
        "executionInfo": {
          "elapsed": 198,
          "status": "ok",
          "timestamp": 1702396006734,
          "user": {
            "displayName": "",
            "userId": ""
          },
          "user_tz": 0
        },
        "id": "frb0aKw7jhee",
        "outputId": "25faa056-2e77-47bf-9bd1-2601ffc38395"
      },
      "outputs": [
        {
          "data": {
            "image/png": "[encoded data removed]",
            "text/plain": [
              "\u003cFigure size 600x400 with 1 Axes\u003e"
            ]
          },
          "metadata": {
            "image/png": {
              "height": 277,
              "width": 388
            }
          },
          "output_type": "display_data"
        }
      ],
      "source": [
        "plt.plot(loss_history)\n",
        "plt.title('Train loss')\n",
        "plt.xlabel('Step')\n",
        "plt.ylabel('MSE')\n",
        "plt.show()"
      ]
    }
  ],
  "metadata": {
    "colab": {
      "collapsed_sections": [],
      "provenance": []
    }
  },
  "nbformat": 4,
  "nbformat_minor": 0
}
